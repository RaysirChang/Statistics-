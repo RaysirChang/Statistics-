{
 "cells": [
  {
   "cell_type": "code",
   "execution_count": 3,
   "metadata": {},
   "outputs": [],
   "source": [
    "import pandas as pd\n",
    "import numpy as np\n",
    "import scipy.stats"
   ]
  },
  {
   "cell_type": "code",
   "execution_count": 4,
   "metadata": {},
   "outputs": [
    {
     "name": "stdout",
     "output_type": "stream",
     "text": [
      "匯入資料: \n",
      "======================================================\n",
      "    A  B  C\n",
      "0   1  1  1\n",
      "1   2  3  2\n",
      "2   1 -1  1\n",
      "3   2  2  2\n",
      "4   1  1  1\n",
      "5   2  5  2\n",
      "6   1 -1  1\n",
      "7   2  6  2\n",
      "8   1 -1  1\n",
      "9   2  2  2\n",
      "10     1  2\n",
      "11     2  1\n",
      "12     1   \n",
      "13     2   \n",
      "======================================================\n",
      "Bartlett's Test\n",
      "Test Statistic= 26.06\n",
      "P-value= 0.00000\n",
      "有顯著差異\n",
      "--------------------------------------------------\n",
      "Levene's Test\n",
      "Test Statistic= 5.88\n",
      "P-value= 0.00653\n",
      "有顯著差異\n"
     ]
    }
   ],
   "source": [
    "df=pd.read_excel('multi-equal_variance.xls')\n",
    "print('匯入資料: ')\n",
    "print('======================================================')\n",
    "print(df.fillna(''))\n",
    "print('======================================================')\n",
    "\n",
    "s1,p1=scipy.stats.bartlett(df.A.dropna(),df.B.dropna(),df.C.dropna())\n",
    "print('Bartlett\\'s Test') \n",
    "print('Test Statistic= %.2f' %s1)\n",
    "print('P-value= %.5f' %p1)\n",
    "\n",
    "if p1<0.05:\n",
    "    print(\"有顯著差異\")\n",
    "else:\n",
    "    print(\"無顯著差異\")\n",
    "\n",
    "\n",
    "s2,p2=scipy.stats.levene(df.A.dropna(),df.B.dropna(),df.C.dropna())\n",
    "print(50*'-')\n",
    "print('Levene\\'s Test') \n",
    "print('Test Statistic= %.2f' %s2)\n",
    "print('P-value= %.5f' %p2)\n",
    "if p2<0.05:\n",
    "    print(\"有顯著差異\")\n",
    "else:\n",
    "    print(\"無顯著差異\")\n",
    "\n",
    "  \n"
   ]
  },
  {
   "cell_type": "code",
   "execution_count": null,
   "metadata": {},
   "outputs": [],
   "source": []
  }
 ],
 "metadata": {
  "kernelspec": {
   "display_name": "Python 3",
   "language": "python",
   "name": "python3"
  },
  "language_info": {
   "codemirror_mode": {
    "name": "ipython",
    "version": 3
   },
   "file_extension": ".py",
   "mimetype": "text/x-python",
   "name": "python",
   "nbconvert_exporter": "python",
   "pygments_lexer": "ipython3",
   "version": "3.7.5"
  }
 },
 "nbformat": 4,
 "nbformat_minor": 4
}
