{
 "cells": [
  {
   "cell_type": "code",
   "execution_count": 9,
   "metadata": {},
   "outputs": [],
   "source": [
    "import pandas as pd\n",
    "import numpy as np\n",
    "import matplotlib.pyplot as plt\n",
    "from sklearn.model_selection  import train_test_split\n",
    "from sklearn import datasets,linear_model\n",
    "import scipy.stats"
   ]
  },
  {
   "cell_type": "code",
   "execution_count": 10,
   "metadata": {},
   "outputs": [],
   "source": [
    "df1=pd.read_excel(\"multi_linear_regression.xls\")\n",
    "\n",
    "X=df1[['X1','X2']]\n",
    "y=df1[['Y']]\n",
    "\n",
    "pc1, pvalue1=scipy.stats.pearsonr(X.X1,y.Y)\n",
    "pc2, pvalue2=scipy.stats.pearsonr(X.X2,y.Y)"
   ]
  },
  {
   "cell_type": "code",
   "execution_count": 11,
   "metadata": {},
   "outputs": [
    {
     "name": "stdout",
     "output_type": "stream",
     "text": [
      "Multi regression equation:\n",
      "Y= 0.274 X1 + 0.314 X2  -0.268\n",
      "R Squared= 0.72\n",
      "X1  Pvalue= 0.00926\n",
      "X2  Pvalue= 0.15268\n"
     ]
    }
   ],
   "source": [
    "regr=linear_model.LinearRegression()\n",
    "\n",
    "regr.fit(X,y) \n",
    "r_squared = regr.score(X, y)\n",
    "\n",
    "a=float(regr.coef_[0,0])\n",
    "b=float(regr.coef_[0,1])\n",
    "c=float(regr.intercept_)\n",
    "pm1=''\n",
    "if b>0:pm1='+'\n",
    "pm2=''\n",
    "if c>0:pm2='+'\n",
    "\n",
    "print('Multi regression equation:')\n",
    "print('Y= %.3f X1 %s %.3f X2 %s %.3f' %(a,pm1,b, pm2, c))\n",
    "print('R Squared= %.2f'%r_squared)\n",
    "print('X1  Pvalue= %.5f'%pvalue1)\n",
    "print('X2  Pvalue= %.5f'%pvalue2)"
   ]
  },
  {
   "cell_type": "code",
   "execution_count": null,
   "metadata": {},
   "outputs": [],
   "source": []
  }
 ],
 "metadata": {
  "kernelspec": {
   "display_name": "Python 3",
   "language": "python",
   "name": "python3"
  },
  "language_info": {
   "codemirror_mode": {
    "name": "ipython",
    "version": 3
   },
   "file_extension": ".py",
   "mimetype": "text/x-python",
   "name": "python",
   "nbconvert_exporter": "python",
   "pygments_lexer": "ipython3",
   "version": "3.7.5"
  }
 },
 "nbformat": 4,
 "nbformat_minor": 4
}
